{
 "cells": [
  {
   "cell_type": "code",
   "execution_count": 31,
   "metadata": {
    "collapsed": false,
    "scrolled": true
   },
   "outputs": [
    {
     "name": "stdout",
     "output_type": "stream",
     "text": [
      "((((((ci**tp)+0)+72.99)/(((1.67/alh)**(1-((f**(2.71--(ma)))**((4/(od/4.11))+((-5/a)*1.28)))))*-11.94))**-((-(tp)+8)))/(((a/6)*-0.37)+-((f-ah))))\n",
      "(((mg+((7.54**(tp**2.96))-((6--(ah))-(((((5-f)+(-1.88*ci))**-0.01)--6)+(alh/9)))))**(ah/h))/(((a/6)*-0.37)+((8.57**((h*-3.26)**0))/(0/h))))\n",
      "(((mg+((7.54**(tp**2.96))-((6--(ah))-(alh+(alh/9)))))**(ah/h))/(((((5.60*(p/-7.38))-(mg-p))/6)*-0.37)+((8.57**((h*-3.26)**0))/(0/h))))\n",
      "((-6.19**-214.93)+(-27**(-((7-ci))/((0.10-(-0.29/(tp-p)))**-(((0**tp)/0))))))\n",
      "((-15.16**-8.91)+((-18.28**f)/((1.11+(11083.55/(pr+-3)))-2.66)))\n"
     ]
    }
   ],
   "source": [
    "f1 = '((((((color_intensity^total_phenols)+0)+72.99971530425738)%(((1.6767113954095336%alcalinity_ash)^(1-((flavanoids^(2.7122345849207767--(malic_acid)))^((4%(od28_od315%4.119741319687906))+((-5%alcohol)*1.2800619275259493)))))*-11.940837228486675))^-((-(total_phenols)+8)))%(((alcohol%6)*-0.37222639609811914)+-((flavanoids-ash))))'\n",
    "f2 = '(((magnesium+((7.542468531094034^(total_phenols^2.969043114577805))-((6--(ash))-(((((5-flavanoids)+(-1.887330658434184*color_intensity))^-0.018866254325722687)--6)+(alcalinity_ash%9)))))^(ash%hue))%(((alcohol%6)*-0.37222639609811914)+((8.576795897083196^((hue*-3.268729090560387)^0))%(0%hue))))'\n",
    "f3 = '(((magnesium+((7.542468531094034^(total_phenols^2.969043114577805))-((6--(ash))-(alcalinity_ash+(alcalinity_ash%9)))))^(ash%hue))%(((((5.601278729430382*(proanthocyanins%-7.381645916985297))-(magnesium-proanthocyanins))%6)*-0.37222639609811914)+((8.576795897083196^((hue*-3.268729090560387)^0))%(0%hue))))'\n",
    "f4 = '((-6.191083816011499^-214.93571903026356)+(-27^(-((7-color_intensity))%((0.10866723540463635-(-0.2908594216097491%(total_phenols-proanthocyanins)))^-(((0^total_phenols)%0))))))'\n",
    "f5 = '((-15.162959286967478^-8.914653447205758)+((-18.28953365078993^flavanoids)%((1.1151052593044681+(11083.550907581806%(proline+-3)))-2.6617334438560087)))'\n",
    "\n",
    "\n",
    "def fix(str):\n",
    "    str = str.replace(\"^\",\"**\")\n",
    "    str = str.replace(\"%\",\"/\")\n",
    "    \n",
    "    str = str.replace(\"alcohol\",\"a\")\n",
    "    str = str.replace(\"malic_acid\",\"ma\")\n",
    "    str = str.replace(\"alcalinity_ash\", \"alh\")\n",
    "    str = str.replace(\"magnesium\", \"mg\")\n",
    "    str = str.replace(\"total_phenols\", \"tp\")\n",
    "    str = str.replace(\"flavanoids\",\"f\")\n",
    "    str = str.replace(\"nonflavanoid_phenols\",\"nfp\")\n",
    "    str = str.replace(\"proanthocyanins\",\"p\")\n",
    "    str = str.replace(\"color_intensity\",\"ci\")\n",
    "    str = str.replace(\"hue\",\"h\")\n",
    "    str = str.replace(\"od28_od315\",\"od\")\n",
    "    str = str.replace(\"proline\",\"pr\")\n",
    "    str = str.replace(\"ash\", \"ah\")\n",
    "\n",
    "    \n",
    "    # Likely a better way to do this, but trunc all numbers to 2 digits.\n",
    "    str2 = \"\"\n",
    "    i = 0\n",
    "    while i<len(str):\n",
    "        ch = str[i]\n",
    "        \n",
    "        if ch == '.':\n",
    "            j = 0\n",
    "            i+=1\n",
    "            str2+='.'\n",
    "            while i<len(str) and str[i].isdigit():\n",
    "                j+=1\n",
    "                if j<=2:\n",
    "                    str2+=str[i]\n",
    "                i+=1\n",
    "        else:\n",
    "            i+=1\n",
    "            str2 += ch\n",
    "    \n",
    "    \n",
    "    return str2\n",
    "\n",
    "print(fix(f1))\n",
    "print(fix(f2))\n",
    "print(fix(f3))\n",
    "print(fix(f4))\n",
    "print(fix(f5))\n",
    "\n"
   ]
  },
  {
   "cell_type": "code",
   "execution_count": 33,
   "metadata": {
    "collapsed": false
   },
   "outputs": [],
   "source": [
    "# 0.5585538759035267:((((((color_intensity**total_phenols)+0)+72.99971530425738)/(((1.6767113954095336/alcalinity_ash)**(1-((flavanoids**(2.7122345849207767--(malic_acid)))**((4/(od28_od315/4.119741319687906))+((-5/alcohol)*1.2800619275259493)))))*-11.940837228486675))**-((-(total_phenols)+8)))/(((alcohol/6)*-0.37222639609811914)+-((flavanoids-ash))))\n",
    "# 0.4953332779289009:(((magnesium+((7.542468531094034**(total_phenols**2.969043114577805))-((6--(ash))-(((((5-flavanoids)+(-1.887330658434184*color_intensity))**-0.018866254325722687)--6)+(alcalinity_ash/9)))))**(ash/hue))/(((alcohol/6)*-0.37222639609811914)+((8.576795897083196**((hue*-3.268729090560387)**0))/(0/hue))))\n",
    "# 0.4932438687363001:(((magnesium+((7.542468531094034**(total_phenols**2.969043114577805))-((6--(ash))-(alcalinity_ash+(alcalinity_ash/9)))))**(ash/hue))/(((((5.601278729430382*(proanthocyanins/-7.381645916985297))-(magnesium-proanthocyanins))/6)*-0.37222639609811914)+((8.576795897083196**((hue*-3.268729090560387)**0))/(0/hue))))\n",
    "# 0.4864205584168056:((-6.191083816011499**-214.93571903026356)+(-27**(-((7-color_intensity))/((0.10866723540463635-(-0.2908594216097491/(total_phenols-proanthocyanins)))**-(((0**total_phenols)/0))))))\n",
    "# 0.4864205584168056:((-15.162959286967478**-8.914653447205758)+((-18.28953365078993**flavanoids)/((1.1151052593044681+(11083.550907581806/(proline+-3)))-2.6617334438560087)))\n",
    "\n",
    "from sympy import init_printing\n",
    "from sympy import *\n",
    "init_printing(use_unicode=True)\n",
    "\n",
    "a, ma, ah, alh, mg, tp, f, nfp, p, ci, h, od, pr = symbols('a, ma, ah, alh, mg, tp, f, nfp, p, ci, h, od, pr')\n",
    "\n",
    "\n",
    "\n"
   ]
  },
  {
   "cell_type": "code",
   "execution_count": 60,
   "metadata": {
    "collapsed": false
   },
   "outputs": [
    {
     "name": "stdout",
     "output_type": "stream",
     "text": [
      "- \\frac{1}{0.0616666666666667 a - ah + f} \\left(- 0.0837520938023451 \\left(\\frac{1.67}{alh}\\right)^{\\left(f^{ma + 2.71}\\right)^{\\frac{1}{a od} \\left(16.44 a - 6.4 od\\right)} - 1} \\left(ci^{tp} + 72.99\\right)\\right)^{tp - 8}\n"
     ]
    },
    {
     "data": {
      "image/png": "[encoded data removed]",
      "text/latex": [
       "$$- \\frac{1}{0.0616666666666667 a - ah + f} \\left(- 0.0837520938023451 \\left(\\frac{1.67}{alh}\\right)^{\\left(f^{ma + 2.71}\\right)^{\\frac{1}{a od} \\left(16.44 a - 6.4 od\\right)} - 1} \\left(ci^{tp} + 72.99\\right)\\right)^{tp - 8}$$"
      ],
      "text/plain": [
       "                                                                            tp\n",
       " ⎛                                      16.44⋅a - 6.4⋅od                   ⎞  \n",
       " ⎜                                      ────────────────                   ⎟  \n",
       " ⎜                                            a⋅od                         ⎟  \n",
       " ⎜                          ⎛ ma + 2.71⎞                                   ⎟  \n",
       " ⎜                          ⎝f         ⎠                 - 1               ⎟  \n",
       " ⎜                    ⎛1.67⎞                                 ⎛  tp        ⎞⎟  \n",
       "-⎜-0.0837520938023451⋅⎜────⎟                                ⋅⎝ci   + 72.99⎠⎟  \n",
       " ⎝                    ⎝alh ⎠                                               ⎠  \n",
       "──────────────────────────────────────────────────────────────────────────────\n",
       "                           0.0616666666666667⋅a - ah + f                      \n",
       "\n",
       " - 8 \n",
       "     \n",
       "     \n",
       "     \n",
       "     \n",
       "     \n",
       "     \n",
       "     \n",
       "     \n",
       "─────\n",
       "     "
      ]
     },
     "execution_count": 60,
     "metadata": {},
     "output_type": "execute_result"
    }
   ],
   "source": [
    "z = simplify( ((((((ci**tp)+0)+72.99)/(((1.67/alh)**(1-((f**(2.71--(ma)))**((4/(od/4.11))+((-5/a)*1.28)))))*-11.94))**-((-(tp)+8)))/(((a/6)*-0.37)+-((f-ah)))) )\n",
    "\n",
    "print(latex(z))\n",
    "\n",
    "z\n"
   ]
  },
  {
   "cell_type": "code",
   "execution_count": 61,
   "metadata": {
    "collapsed": false
   },
   "outputs": [
    {
     "name": "stdout",
     "output_type": "stream",
     "text": [
      "- \\frac{1.0}{\\tilde{\\infty} + 0.0616666666666667 a} \\left(7.54^{tp^{2.96}} - ah + \\frac{alh}{9} + mg + \\left(- 1.88 ci - f + 5\\right)^{-0.01}\\right)^{\\frac{ah}{h}}\n"
     ]
    },
    {
     "data": {
      "image/png": "[encoded data removed]",
      "text/latex": [
       "$$- \\frac{1.0}{\\tilde{\\infty} + 0.0616666666666667 a} \\left(7.54^{tp^{2.96}} - ah + \\frac{alh}{9} + mg + \\left(- 1.88 ci - f + 5\\right)^{-0.01}\\right)^{\\frac{ah}{h}}$$"
      ],
      "text/plain": [
       "                                                             ah \n",
       "                                                             ── \n",
       "                                                             h  \n",
       "     ⎛    ⎛  2.96⎞                                          ⎞   \n",
       "     ⎜    ⎝tp    ⎠        alh                          -0.01⎟   \n",
       "-1.0⋅⎜7.54         - ah + ─── + mg + (-1.88⋅ci - f + 5)     ⎟   \n",
       "     ⎝                     9                                ⎠   \n",
       "────────────────────────────────────────────────────────────────\n",
       "                   zoo + 0.0616666666666667⋅a                   "
      ]
     },
     "execution_count": 61,
     "metadata": {},
     "output_type": "execute_result"
    }
   ],
   "source": [
    "z = simplify( (((mg+((7.54**(tp**2.96))-((6--(ah))-(((((5-f)+(-1.88*ci))**-0.01)--6)+(alh/9)))))**(ah/h))/(((a/6)*-0.37)+((8.57**((h*-3.26)**0))/(0/h)))) )\n",
    "\n",
    "print(latex(z))\n",
    "\n",
    "z\n"
   ]
  },
  {
   "cell_type": "code",
   "execution_count": 62,
   "metadata": {
    "collapsed": false
   },
   "outputs": [
    {
     "name": "stdout",
     "output_type": "stream",
     "text": [
      "\\frac{\\left(7.54^{tp^{2.96}} - ah + \\frac{10 alh}{9} + mg - 6\\right)^{\\frac{ah}{h}}}{\\tilde{\\infty} + 0.0616666666666667 mg - 0.014873532068654 p}\n"
     ]
    },
    {
     "data": {
      "image/png": "[encoded data removed]",
      "text/latex": [
       "$$\\frac{\\left(7.54^{tp^{2.96}} - ah + \\frac{10 alh}{9} + mg - 6\\right)^{\\frac{ah}{h}}}{\\tilde{\\infty} + 0.0616666666666667 mg - 0.014873532068654 p}$$"
      ],
      "text/plain": [
       "                                          ah     \n",
       "                                          ──     \n",
       "                                          h      \n",
       "     ⎛    ⎛  2.96⎞                       ⎞       \n",
       "     ⎜    ⎝tp    ⎠        10⋅alh         ⎟       \n",
       "     ⎜7.54         - ah + ────── + mg - 6⎟       \n",
       "     ⎝                      9            ⎠       \n",
       "─────────────────────────────────────────────────\n",
       "zoo + 0.0616666666666667⋅mg - 0.014873532068654⋅p"
      ]
     },
     "execution_count": 62,
     "metadata": {},
     "output_type": "execute_result"
    }
   ],
   "source": [
    "z = simplify( (((mg+((7.54**(tp**2.96))-((6--(ah))-(alh+(alh/9)))))**(ah/h))/(((((5.60*(p/-7.38))-(mg-p))/6)*-0.37)+((8.57**((h*-3.26)**0))/(0/h)))) )\n",
    "\n",
    "print(latex(z))\n",
    "\n",
    "z"
   ]
  },
  {
   "cell_type": "code",
   "execution_count": null,
   "metadata": {
    "collapsed": true
   },
   "outputs": [],
   "source": []
  },
  {
   "cell_type": "code",
   "execution_count": 59,
   "metadata": {
    "collapsed": false
   },
   "outputs": [
    {
     "name": "stdout",
     "output_type": "stream",
     "text": [
      "- 27^{\\left(- \\frac{1}{p - tp} \\left(- 0.1 p + 0.1 tp + 0.29\\right)\\right)^{0^{tp} \\tilde{\\infty}} \\left(ci - 7\\right)} - 6.94910391591335 \\cdot 10^{-171}\n"
     ]
    },
    {
     "data": {
      "image/png": "[encoded data removed]",
      "text/latex": [
       "$$- 27^{\\left(- \\frac{1}{p - tp} \\left(- 0.1 p + 0.1 tp + 0.29\\right)\\right)^{0^{tp} \\tilde{\\infty}} \\left(ci - 7\\right)} - 6.94910391591335 \\cdot 10^{-171}$$"
      ],
      "text/plain": [
       "                                 tp                                     \n",
       "                                0  ⋅zoo                                 \n",
       "    ⎛-(-0.1⋅p + 0.1⋅tp + 0.29) ⎞                                        \n",
       "    ⎜──────────────────────────⎟       ⋅(ci - 7)                        \n",
       "    ⎝          p - tp          ⎠                                        \n",
       "- 27                                             - 6.94910391591335e-171"
      ]
     },
     "execution_count": 59,
     "metadata": {},
     "output_type": "execute_result"
    }
   ],
   "source": [
    "z = simplify( ((-6.19**-214.93)+(-27**(-((7-ci))/((0.10-(-0.29/(tp-p)))**-(((0**tp)/0)))))) )\n",
    "\n",
    "print(latex(z))\n",
    "\n",
    "z\n"
   ]
  },
  {
   "cell_type": "code",
   "execution_count": 58,
   "metadata": {
    "collapsed": false
   },
   "outputs": [
    {
     "name": "stdout",
     "output_type": "stream",
     "text": [
      "\\frac{1}{1.55 pr - 11088.2} \\left(18.28^{f} \\left(pr - 3\\right) - 4.68060308599887 \\cdot 10^{-11} pr + 3.34835246052727 \\cdot 10^{-7}\\right)\n"
     ]
    },
    {
     "data": {
      "image/png": "[encoded data removed]",
      "text/latex": [
       "$$\\frac{1}{1.55 pr - 11088.2} \\left(18.28^{f} \\left(pr - 3\\right) - 4.68060308599887 \\cdot 10^{-11} pr + 3.34835246052727 \\cdot 10^{-7}\\right)$$"
      ],
      "text/plain": [
       "     f                                                         \n",
       "18.28 ⋅(pr - 3) - 4.68060308599887e-11⋅pr + 3.34835246052727e-7\n",
       "───────────────────────────────────────────────────────────────\n",
       "                       1.55⋅pr - 11088.2                       "
      ]
     },
     "execution_count": 58,
     "metadata": {},
     "output_type": "execute_result"
    }
   ],
   "source": [
    "z = simplify( ((-15.16**-8.91)+((-18.28**f)/((1.11+(11083.55/(pr+-3)))-2.66))) )\n",
    "\n",
    "print(latex(z))\n",
    "\n",
    "z"
   ]
  },
  {
   "cell_type": "code",
   "execution_count": null,
   "metadata": {
    "collapsed": true
   },
   "outputs": [],
   "source": []
  },
  {
   "cell_type": "markdown",
   "metadata": {},
   "source": [
    "# Equations\n",
    "\n",
    "$$ - \\frac{1}{0.06 a - ah + f} \\left(- 0.08 \\left(\\frac{1.67}{alh}\\right)^{\\left(f^{ma + 2.71}\\right)^{\\frac{1}{a od} \\left(16.44 a - 6.4 od\\right)} - 1} \\left(ci^{tp} + 72.99\\right)\\right)^{tp - 8} $$\n",
    "\n",
    "$$ - \\frac{1.0}{1 + 0.061 a} \\left(7.54^{tp^{2.96}} - ah + \\frac{alh}{9} + mg + \\left(- 1.88 ci - f + 5\\right)^{-0.01}\\right)^{\\frac{ah}{h}} $$\n",
    "\n",
    "$$ \\frac{\\left(7.54^{tp^{2.96}} - ah + \\frac{10 alh}{9} + mg - 6\\right)^{\\frac{ah}{h}}}{1 + 0.06 mg - 0.01 p} $$\n",
    "\n",
    "$$ - 27^{\\left(- \\frac{1}{p - tp} \\left(- 0.1 p + 0.1 tp + 0.29\\right)\\right) \\left(ci - 7\\right)} - 6.94 \\cdot 10^{-171} $$\n",
    "\n",
    "$$ \\frac{1}{1.55 pr - 11088.2} \\left(18.28^{f} \\left(pr - 3\\right) - 4.68 \\cdot 10^{-11} pr + 3.34 \\cdot 10^{-7}\\right)  $$\n"
   ]
  },
  {
   "cell_type": "code",
   "execution_count": null,
   "metadata": {
    "collapsed": true
   },
   "outputs": [],
   "source": []
  }
 ],
 "metadata": {
  "anaconda-cloud": {},
  "kernelspec": {
   "display_name": "Python [conda root]",
   "language": "python",
   "name": "conda-root-py"
  },
  "language_info": {
   "codemirror_mode": {
    "name": "ipython",
    "version": 3
   },
   "file_extension": ".py",
   "mimetype": "text/x-python",
   "name": "python",
   "nbconvert_exporter": "python",
   "pygments_lexer": "ipython3",
   "version": "3.5.2"
  }
 },
 "nbformat": 4,
 "nbformat_minor": 1
}
